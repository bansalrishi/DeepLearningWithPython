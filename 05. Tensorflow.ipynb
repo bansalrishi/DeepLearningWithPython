{
 "cells": [
  {
   "cell_type": "markdown",
   "metadata": {},
   "source": [
    "# Tensorflow\n",
    "- open source machine learning framework for all developers\n",
    "- used for implementing machine learning and deep learning applications\n",
    "- uses data flow graphs to build models\n",
    "- allows developers to create large-scale neural networks with many layers\n",
    "- mainly used for: Classification, Perception, Understanding, Discovering, Prediction and Creation\n",
    "\n"
   ]
  },
  {
   "cell_type": "markdown",
   "metadata": {},
   "source": [
    "Tensor is n-dimension structure\n",
    "- n = 1 List \n",
    "- n = 2 Matrix\n",
    "\n",
    "Draw Computation Graph to calculate (x + y)*z\n",
    "\n",
    "<img src=\"Image/tensor.png\" width=\"400\" />"
   ]
  },
  {
   "cell_type": "markdown",
   "metadata": {},
   "source": [
    "Flow of Tensors is called as \"Tensorflow\"\n",
    "<img src=\"Image/tensor2.png\" width=\"400\" />"
   ]
  },
  {
   "cell_type": "markdown",
   "metadata": {},
   "source": [
    "#### Placeholders\n",
    "- we assign data to this at a later date\n",
    "- it allows us to create our operations and build our computation graph, without needing the data\n",
    "- we feed data into the graph through these placeholders (green box above)"
   ]
  },
  {
   "cell_type": "code",
   "execution_count": 4,
   "metadata": {},
   "outputs": [],
   "source": [
    "import numpy as np\n",
    "import matplotlib.pyplot as plt\n",
    "import pandas as pd\n",
    "\n",
    "# Importing the dataset\n",
    "dataset = pd.read_csv('Data/NN/Churn_Modelling.csv')\n",
    "X = dataset.iloc[:, 3:13].values\n",
    "y = dataset.iloc[:, 13].values\n",
    "\n"
   ]
  },
  {
   "cell_type": "code",
   "execution_count": 5,
   "metadata": {},
   "outputs": [],
   "source": [
    "# Encoding categorical data\n",
    "from sklearn.preprocessing import LabelEncoder, OneHotEncoder\n",
    "labelencoder_X_1 = LabelEncoder()\n",
    "X[:, 1] = labelencoder_X_1.fit_transform(X[:, 1])\n",
    "labelencoder_X_2 = LabelEncoder()\n",
    "X[:, 2] = labelencoder_X_2.fit_transform(X[:, 2])\n",
    "#onehotencoder = OneHotEncoder(ColumnTransformer = [1])\n",
    "#X = onehotencoder.fit_transform(X).toarray()\n",
    "#X = X[:, 1:]\n",
    "\n",
    "X = X.astype(float)\n",
    "y = y.astype(float)"
   ]
  },
  {
   "cell_type": "code",
   "execution_count": 7,
   "metadata": {},
   "outputs": [],
   "source": [
    "\n",
    "# Splitting the dataset into the Training set and Test set\n",
    "from sklearn.model_selection import train_test_split\n",
    "X_train, X_test, y_train, y_test = train_test_split(X, y, test_size = 0.2, random_state = 0)"
   ]
  },
  {
   "cell_type": "code",
   "execution_count": 9,
   "metadata": {},
   "outputs": [],
   "source": [
    "# Feature Scaling\n",
    "from sklearn.preprocessing import StandardScaler\n",
    "sc = StandardScaler()\n",
    "X_train = sc.fit_transform(X_train)\n",
    "X_test = sc.transform(X_test)"
   ]
  },
  {
   "cell_type": "code",
   "execution_count": 11,
   "metadata": {},
   "outputs": [],
   "source": [
    "# Part 2 - Now let's make the ANN!\n",
    "\n",
    "# Importing the Keras libraries and packages\n",
    "import keras\n",
    "from keras.models import Sequential\n",
    "from keras.layers import Dense\n",
    "from keras.utils.vis_utils import plot_model\n",
    "from keras.regularizers import l2"
   ]
  },
  {
   "cell_type": "code",
   "execution_count": 22,
   "metadata": {},
   "outputs": [],
   "source": [
    "# Initialising the ANN\n",
    "classifier = Sequential()\n",
    "\n",
    "# Adding the input layer and the first hidden layer, kernel_regularizer parameter is optional\n",
    "classifier.add(Dense(6, kernel_initializer = 'uniform', activation = 'relu', input_dim = 10, kernel_regularizer=l2(0.001)))\n",
    "\n",
    "# Adding the second hidden layer\n",
    "classifier.add(Dense(units = 6, kernel_initializer = 'uniform', activation = 'relu', kernel_regularizer=l2(0.001)))\n",
    "\n",
    "# Adding the output layer\n",
    "classifier.add(Dense(units = 1, kernel_initializer = 'uniform', activation = 'sigmoid'))\n",
    "\n",
    "# Compiling the ANN\n",
    "classifier.compile(optimizer = 'adam', loss = 'binary_crossentropy', metrics = ['accuracy'])"
   ]
  },
  {
   "cell_type": "code",
   "execution_count": 24,
   "metadata": {},
   "outputs": [
    {
     "name": "stdout",
     "output_type": "stream",
     "text": [
      "Epoch 1/10\n",
      "8000/8000 [==============================] - 1s 173us/step - loss: 0.4119 - acc: 0.8350\n",
      "Epoch 2/10\n",
      "8000/8000 [==============================] - 1s 164us/step - loss: 0.4114 - acc: 0.8357\n",
      "Epoch 3/10\n",
      "8000/8000 [==============================] - 1s 165us/step - loss: 0.4110 - acc: 0.8346\n",
      "Epoch 4/10\n",
      "8000/8000 [==============================] - 1s 150us/step - loss: 0.4104 - acc: 0.8360\n",
      "Epoch 5/10\n",
      "8000/8000 [==============================] - 1s 150us/step - loss: 0.4100 - acc: 0.8354\n",
      "Epoch 6/10\n",
      "8000/8000 [==============================] - 1s 150us/step - loss: 0.4097 - acc: 0.8349\n",
      "Epoch 7/10\n",
      "8000/8000 [==============================] - 1s 164us/step - loss: 0.4095 - acc: 0.8340\n",
      "Epoch 8/10\n",
      "8000/8000 [==============================] - 1s 159us/step - loss: 0.4092 - acc: 0.8337\n",
      "Epoch 9/10\n",
      "8000/8000 [==============================] - 1s 159us/step - loss: 0.4084 - acc: 0.8341\n",
      "Epoch 10/10\n",
      "8000/8000 [==============================] - 1s 172us/step - loss: 0.4083 - acc: 0.8339\n"
     ]
    }
   ],
   "source": [
    "# Fitting the ANN to the Training set\n",
    "classifier.fit(X_train, y_train, batch_size = 10, epochs = 10)\n",
    "\n",
    "# Part 3 - Making the predictions and evaluating the model\n",
    "\n",
    "# Predicting the Test set results\n",
    "y_pred = classifier.predict(X_test)\n",
    "y_pred = (y_pred > 0.5)\n",
    "\n",
    "# Making the Confusion Matrix\n",
    "from sklearn.metrics import confusion_matrix\n",
    "cm = confusion_matrix(y_test, y_pred)\n",
    "\n",
    "#To Visualize a Deep Learning Neural Network Model in Keras\n",
    "import os\n",
    "os.environ[\"PATH\"] += os.pathsep + 'C:/Users/rishbans/Anaconda3/pkgs/graphviz-2.38-hfd603c8_2/Library/bin/graphviz'\n",
    "plot_model(classifier, to_file='model_plot.png', show_shapes=True, show_layer_names=True)"
   ]
  },
  {
   "cell_type": "code",
   "execution_count": null,
   "metadata": {},
   "outputs": [],
   "source": []
  }
 ],
 "metadata": {
  "kernelspec": {
   "display_name": "Python 3",
   "language": "python",
   "name": "python3"
  },
  "language_info": {
   "codemirror_mode": {
    "name": "ipython",
    "version": 3
   },
   "file_extension": ".py",
   "mimetype": "text/x-python",
   "name": "python",
   "nbconvert_exporter": "python",
   "pygments_lexer": "ipython3",
   "version": "3.5.5"
  }
 },
 "nbformat": 4,
 "nbformat_minor": 2
}

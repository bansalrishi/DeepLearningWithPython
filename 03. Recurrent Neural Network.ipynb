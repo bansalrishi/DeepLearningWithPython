{
 "cells": [
  {
   "cell_type": "markdown",
   "metadata": {},
   "source": [
    "# Recurrent Neural Network \n"
   ]
  },
  {
   "cell_type": "markdown",
   "metadata": {},
   "source": [
    "- A normal Neural Network take fixed sized vector as input. This limits its ability to take input with no predetermined steps\n",
    "- Sequential Processing of data\n",
    "- E.g: Audio can be splitting into sequence of data, text can be splitted (words or sentence)\n"
   ]
  },
  {
   "cell_type": "markdown",
   "metadata": {},
   "source": [
    "Sequence Modelling Problem:  \n",
    "Predict the next word  "
   ]
  },
  {
   "cell_type": "markdown",
   "metadata": {},
   "source": [
    "**Standard RNN Gradient Flow: Vanishing Gradient**\n",
    "- Exploding Gradient ( Many Values > 1)  \n",
    "Addressing Exploding Gradient  \n",
    "- Gradient Clipping (scale big gradients)\n"
   ]
  },
  {
   "cell_type": "markdown",
   "metadata": {},
   "source": [
    "- Vanishing Gradient ( Many Values < 1)  \n",
    "When you multiply small numbers between 0 and 1, the number will keep on shrinking. So, sending error back will be tougher as gradient is vanishing.   \n",
    "Addressing\n",
    "- Activation Function\n",
    "- Weight Initialization\n",
    "- Network Architecture (Gated Cells - LSTM)\n"
   ]
  },
  {
   "cell_type": "markdown",
   "metadata": {},
   "source": [
    "## Long Short Term Memory (LSTM)\n",
    "1. Forget\n",
    "2. Store \n",
    "3. Update\n",
    "4. Output"
   ]
  },
  {
   "cell_type": "markdown",
   "metadata": {},
   "source": [
    "RNN Application\n",
    "- Composing Music\n",
    "- Sentiment Classfication\n",
    "- Encoder Decoder\n"
   ]
  }
 ],
 "metadata": {
  "kernelspec": {
   "display_name": "Python 3",
   "language": "python",
   "name": "python3"
  },
  "language_info": {
   "codemirror_mode": {
    "name": "ipython",
    "version": 3
   },
   "file_extension": ".py",
   "mimetype": "text/x-python",
   "name": "python",
   "nbconvert_exporter": "python",
   "pygments_lexer": "ipython3",
   "version": "3.5.5"
  }
 },
 "nbformat": 4,
 "nbformat_minor": 2
}
